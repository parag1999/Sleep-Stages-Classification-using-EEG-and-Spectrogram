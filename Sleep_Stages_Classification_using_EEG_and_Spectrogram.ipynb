{
  "nbformat": 4,
  "nbformat_minor": 0,
  "metadata": {
    "colab": {
      "name": "Sleep Stages Classification using EEG and Spectrogram.ipynb",
      "provenance": [],
      "machine_shape": "hm"
    },
    "kernelspec": {
      "name": "python3",
      "display_name": "Python 3"
    },
    "widgets": {
      "application/vnd.jupyter.widget-state+json": {
        "168015fc7d394be889af17930c77cd32": {
          "model_module": "@jupyter-widgets/controls",
          "model_name": "HBoxModel",
          "state": {
            "_view_name": "HBoxView",
            "_dom_classes": [],
            "_model_name": "HBoxModel",
            "_view_module": "@jupyter-widgets/controls",
            "_model_module_version": "1.5.0",
            "_view_count": null,
            "_view_module_version": "1.5.0",
            "box_style": "",
            "layout": "IPY_MODEL_7350844bce244046955a8c6d830898f4",
            "_model_module": "@jupyter-widgets/controls",
            "children": [
              "IPY_MODEL_dbdd0ee351ed4182a12a054d115e61b0",
              "IPY_MODEL_545643f77169499789f2ef4826c12da9"
            ]
          }
        },
        "7350844bce244046955a8c6d830898f4": {
          "model_module": "@jupyter-widgets/base",
          "model_name": "LayoutModel",
          "state": {
            "_view_name": "LayoutView",
            "grid_template_rows": null,
            "right": null,
            "justify_content": null,
            "_view_module": "@jupyter-widgets/base",
            "overflow": null,
            "_model_module_version": "1.2.0",
            "_view_count": null,
            "flex_flow": null,
            "width": null,
            "min_width": null,
            "border": null,
            "align_items": null,
            "bottom": null,
            "_model_module": "@jupyter-widgets/base",
            "top": null,
            "grid_column": null,
            "overflow_y": null,
            "overflow_x": null,
            "grid_auto_flow": null,
            "grid_area": null,
            "grid_template_columns": null,
            "flex": null,
            "_model_name": "LayoutModel",
            "justify_items": null,
            "grid_row": null,
            "max_height": null,
            "align_content": null,
            "visibility": null,
            "align_self": null,
            "height": null,
            "min_height": null,
            "padding": null,
            "grid_auto_rows": null,
            "grid_gap": null,
            "max_width": null,
            "order": null,
            "_view_module_version": "1.2.0",
            "grid_template_areas": null,
            "object_position": null,
            "object_fit": null,
            "grid_auto_columns": null,
            "margin": null,
            "display": null,
            "left": null
          }
        },
        "dbdd0ee351ed4182a12a054d115e61b0": {
          "model_module": "@jupyter-widgets/controls",
          "model_name": "IntProgressModel",
          "state": {
            "_view_name": "ProgressView",
            "style": "IPY_MODEL_d7848c73a55146909c1fd76fde6104d1",
            "_dom_classes": [],
            "description": "100%",
            "_model_name": "IntProgressModel",
            "bar_style": "success",
            "max": 49651328,
            "_view_module": "@jupyter-widgets/controls",
            "_model_module_version": "1.5.0",
            "value": 49651328,
            "_view_count": null,
            "_view_module_version": "1.5.0",
            "orientation": "horizontal",
            "min": 0,
            "description_tooltip": null,
            "_model_module": "@jupyter-widgets/controls",
            "layout": "IPY_MODEL_ff08abf88ed44432b8dcefb9febdfc75"
          }
        },
        "545643f77169499789f2ef4826c12da9": {
          "model_module": "@jupyter-widgets/controls",
          "model_name": "HTMLModel",
          "state": {
            "_view_name": "HTMLView",
            "style": "IPY_MODEL_b6a4996cef694e9b97535f55b88621d8",
            "_dom_classes": [],
            "description": "",
            "_model_name": "HTMLModel",
            "placeholder": "​",
            "_view_module": "@jupyter-widgets/controls",
            "_model_module_version": "1.5.0",
            "value": " Downloading : 47.4M/47.4M [00:06&lt;00:00,    7.67MB/s]",
            "_view_count": null,
            "_view_module_version": "1.5.0",
            "description_tooltip": null,
            "_model_module": "@jupyter-widgets/controls",
            "layout": "IPY_MODEL_c286aa787cbf4e3e9975ed54a0dabb56"
          }
        },
        "d7848c73a55146909c1fd76fde6104d1": {
          "model_module": "@jupyter-widgets/controls",
          "model_name": "ProgressStyleModel",
          "state": {
            "_view_name": "StyleView",
            "_model_name": "ProgressStyleModel",
            "description_width": "initial",
            "_view_module": "@jupyter-widgets/base",
            "_model_module_version": "1.5.0",
            "_view_count": null,
            "_view_module_version": "1.2.0",
            "bar_color": null,
            "_model_module": "@jupyter-widgets/controls"
          }
        },
        "ff08abf88ed44432b8dcefb9febdfc75": {
          "model_module": "@jupyter-widgets/base",
          "model_name": "LayoutModel",
          "state": {
            "_view_name": "LayoutView",
            "grid_template_rows": null,
            "right": null,
            "justify_content": null,
            "_view_module": "@jupyter-widgets/base",
            "overflow": null,
            "_model_module_version": "1.2.0",
            "_view_count": null,
            "flex_flow": null,
            "width": null,
            "min_width": null,
            "border": null,
            "align_items": null,
            "bottom": null,
            "_model_module": "@jupyter-widgets/base",
            "top": null,
            "grid_column": null,
            "overflow_y": null,
            "overflow_x": null,
            "grid_auto_flow": null,
            "grid_area": null,
            "grid_template_columns": null,
            "flex": null,
            "_model_name": "LayoutModel",
            "justify_items": null,
            "grid_row": null,
            "max_height": null,
            "align_content": null,
            "visibility": null,
            "align_self": null,
            "height": null,
            "min_height": null,
            "padding": null,
            "grid_auto_rows": null,
            "grid_gap": null,
            "max_width": null,
            "order": null,
            "_view_module_version": "1.2.0",
            "grid_template_areas": null,
            "object_position": null,
            "object_fit": null,
            "grid_auto_columns": null,
            "margin": null,
            "display": null,
            "left": null
          }
        },
        "b6a4996cef694e9b97535f55b88621d8": {
          "model_module": "@jupyter-widgets/controls",
          "model_name": "DescriptionStyleModel",
          "state": {
            "_view_name": "StyleView",
            "_model_name": "DescriptionStyleModel",
            "description_width": "",
            "_view_module": "@jupyter-widgets/base",
            "_model_module_version": "1.5.0",
            "_view_count": null,
            "_view_module_version": "1.2.0",
            "_model_module": "@jupyter-widgets/controls"
          }
        },
        "c286aa787cbf4e3e9975ed54a0dabb56": {
          "model_module": "@jupyter-widgets/base",
          "model_name": "LayoutModel",
          "state": {
            "_view_name": "LayoutView",
            "grid_template_rows": null,
            "right": null,
            "justify_content": null,
            "_view_module": "@jupyter-widgets/base",
            "overflow": null,
            "_model_module_version": "1.2.0",
            "_view_count": null,
            "flex_flow": null,
            "width": null,
            "min_width": null,
            "border": null,
            "align_items": null,
            "bottom": null,
            "_model_module": "@jupyter-widgets/base",
            "top": null,
            "grid_column": null,
            "overflow_y": null,
            "overflow_x": null,
            "grid_auto_flow": null,
            "grid_area": null,
            "grid_template_columns": null,
            "flex": null,
            "_model_name": "LayoutModel",
            "justify_items": null,
            "grid_row": null,
            "max_height": null,
            "align_content": null,
            "visibility": null,
            "align_self": null,
            "height": null,
            "min_height": null,
            "padding": null,
            "grid_auto_rows": null,
            "grid_gap": null,
            "max_width": null,
            "order": null,
            "_view_module_version": "1.2.0",
            "grid_template_areas": null,
            "object_position": null,
            "object_fit": null,
            "grid_auto_columns": null,
            "margin": null,
            "display": null,
            "left": null
          }
        },
        "c0185c6e54964830845cd1e291133f84": {
          "model_module": "@jupyter-widgets/controls",
          "model_name": "HBoxModel",
          "state": {
            "_view_name": "HBoxView",
            "_dom_classes": [],
            "_model_name": "HBoxModel",
            "_view_module": "@jupyter-widgets/controls",
            "_model_module_version": "1.5.0",
            "_view_count": null,
            "_view_module_version": "1.5.0",
            "box_style": "",
            "layout": "IPY_MODEL_afc6f7ea966042b39db763ea5a2d3887",
            "_model_module": "@jupyter-widgets/controls",
            "children": [
              "IPY_MODEL_7af8902f9cb149d1a5750f0f3a335572",
              "IPY_MODEL_6f96f8340ac44864b40d269143a59e15"
            ]
          }
        },
        "afc6f7ea966042b39db763ea5a2d3887": {
          "model_module": "@jupyter-widgets/base",
          "model_name": "LayoutModel",
          "state": {
            "_view_name": "LayoutView",
            "grid_template_rows": null,
            "right": null,
            "justify_content": null,
            "_view_module": "@jupyter-widgets/base",
            "overflow": null,
            "_model_module_version": "1.2.0",
            "_view_count": null,
            "flex_flow": null,
            "width": null,
            "min_width": null,
            "border": null,
            "align_items": null,
            "bottom": null,
            "_model_module": "@jupyter-widgets/base",
            "top": null,
            "grid_column": null,
            "overflow_y": null,
            "overflow_x": null,
            "grid_auto_flow": null,
            "grid_area": null,
            "grid_template_columns": null,
            "flex": null,
            "_model_name": "LayoutModel",
            "justify_items": null,
            "grid_row": null,
            "max_height": null,
            "align_content": null,
            "visibility": null,
            "align_self": null,
            "height": null,
            "min_height": null,
            "padding": null,
            "grid_auto_rows": null,
            "grid_gap": null,
            "max_width": null,
            "order": null,
            "_view_module_version": "1.2.0",
            "grid_template_areas": null,
            "object_position": null,
            "object_fit": null,
            "grid_auto_columns": null,
            "margin": null,
            "display": null,
            "left": null
          }
        },
        "7af8902f9cb149d1a5750f0f3a335572": {
          "model_module": "@jupyter-widgets/controls",
          "model_name": "IntProgressModel",
          "state": {
            "_view_name": "ProgressView",
            "style": "IPY_MODEL_6b2ce51d424945ddb0821d5f70106fdd",
            "_dom_classes": [],
            "description": "100%",
            "_model_name": "IntProgressModel",
            "bar_style": "success",
            "max": 3976,
            "_view_module": "@jupyter-widgets/controls",
            "_model_module_version": "1.5.0",
            "value": 3976,
            "_view_count": null,
            "_view_module_version": "1.5.0",
            "orientation": "horizontal",
            "min": 0,
            "description_tooltip": null,
            "_model_module": "@jupyter-widgets/controls",
            "layout": "IPY_MODEL_18769ff2255447ebaacf88e688a19a39"
          }
        },
        "6f96f8340ac44864b40d269143a59e15": {
          "model_module": "@jupyter-widgets/controls",
          "model_name": "HTMLModel",
          "state": {
            "_view_name": "HTMLView",
            "style": "IPY_MODEL_fbfed0e04ebc43b8b76ea5a131250823",
            "_dom_classes": [],
            "description": "",
            "_model_name": "HTMLModel",
            "placeholder": "​",
            "_view_module": "@jupyter-widgets/controls",
            "_model_module_version": "1.5.0",
            "value": " Downloading : 3.88k/3.88k [00:03&lt;00:00,    1.04kB/s]",
            "_view_count": null,
            "_view_module_version": "1.5.0",
            "description_tooltip": null,
            "_model_module": "@jupyter-widgets/controls",
            "layout": "IPY_MODEL_2f26218e1549488b9a0858997d8bf82e"
          }
        },
        "6b2ce51d424945ddb0821d5f70106fdd": {
          "model_module": "@jupyter-widgets/controls",
          "model_name": "ProgressStyleModel",
          "state": {
            "_view_name": "StyleView",
            "_model_name": "ProgressStyleModel",
            "description_width": "initial",
            "_view_module": "@jupyter-widgets/base",
            "_model_module_version": "1.5.0",
            "_view_count": null,
            "_view_module_version": "1.2.0",
            "bar_color": null,
            "_model_module": "@jupyter-widgets/controls"
          }
        },
        "18769ff2255447ebaacf88e688a19a39": {
          "model_module": "@jupyter-widgets/base",
          "model_name": "LayoutModel",
          "state": {
            "_view_name": "LayoutView",
            "grid_template_rows": null,
            "right": null,
            "justify_content": null,
            "_view_module": "@jupyter-widgets/base",
            "overflow": null,
            "_model_module_version": "1.2.0",
            "_view_count": null,
            "flex_flow": null,
            "width": null,
            "min_width": null,
            "border": null,
            "align_items": null,
            "bottom": null,
            "_model_module": "@jupyter-widgets/base",
            "top": null,
            "grid_column": null,
            "overflow_y": null,
            "overflow_x": null,
            "grid_auto_flow": null,
            "grid_area": null,
            "grid_template_columns": null,
            "flex": null,
            "_model_name": "LayoutModel",
            "justify_items": null,
            "grid_row": null,
            "max_height": null,
            "align_content": null,
            "visibility": null,
            "align_self": null,
            "height": null,
            "min_height": null,
            "padding": null,
            "grid_auto_rows": null,
            "grid_gap": null,
            "max_width": null,
            "order": null,
            "_view_module_version": "1.2.0",
            "grid_template_areas": null,
            "object_position": null,
            "object_fit": null,
            "grid_auto_columns": null,
            "margin": null,
            "display": null,
            "left": null
          }
        },
        "fbfed0e04ebc43b8b76ea5a131250823": {
          "model_module": "@jupyter-widgets/controls",
          "model_name": "DescriptionStyleModel",
          "state": {
            "_view_name": "StyleView",
            "_model_name": "DescriptionStyleModel",
            "description_width": "",
            "_view_module": "@jupyter-widgets/base",
            "_model_module_version": "1.5.0",
            "_view_count": null,
            "_view_module_version": "1.2.0",
            "_model_module": "@jupyter-widgets/controls"
          }
        },
        "2f26218e1549488b9a0858997d8bf82e": {
          "model_module": "@jupyter-widgets/base",
          "model_name": "LayoutModel",
          "state": {
            "_view_name": "LayoutView",
            "grid_template_rows": null,
            "right": null,
            "justify_content": null,
            "_view_module": "@jupyter-widgets/base",
            "overflow": null,
            "_model_module_version": "1.2.0",
            "_view_count": null,
            "flex_flow": null,
            "width": null,
            "min_width": null,
            "border": null,
            "align_items": null,
            "bottom": null,
            "_model_module": "@jupyter-widgets/base",
            "top": null,
            "grid_column": null,
            "overflow_y": null,
            "overflow_x": null,
            "grid_auto_flow": null,
            "grid_area": null,
            "grid_template_columns": null,
            "flex": null,
            "_model_name": "LayoutModel",
            "justify_items": null,
            "grid_row": null,
            "max_height": null,
            "align_content": null,
            "visibility": null,
            "align_self": null,
            "height": null,
            "min_height": null,
            "padding": null,
            "grid_auto_rows": null,
            "grid_gap": null,
            "max_width": null,
            "order": null,
            "_view_module_version": "1.2.0",
            "grid_template_areas": null,
            "object_position": null,
            "object_fit": null,
            "grid_auto_columns": null,
            "margin": null,
            "display": null,
            "left": null
          }
        },
        "402bfee48cdd480da1051d97fc65baea": {
          "model_module": "@jupyter-widgets/controls",
          "model_name": "HBoxModel",
          "state": {
            "_view_name": "HBoxView",
            "_dom_classes": [],
            "_model_name": "HBoxModel",
            "_view_module": "@jupyter-widgets/controls",
            "_model_module_version": "1.5.0",
            "_view_count": null,
            "_view_module_version": "1.5.0",
            "box_style": "",
            "layout": "IPY_MODEL_5054e9ebc8fa4ab39c4e2d28ab75ce6d",
            "_model_module": "@jupyter-widgets/controls",
            "children": [
              "IPY_MODEL_8e66be2e88584dbbb0ffde2a020950c9",
              "IPY_MODEL_ec320a33b390494c97e397654bc4c6f9"
            ]
          }
        },
        "5054e9ebc8fa4ab39c4e2d28ab75ce6d": {
          "model_module": "@jupyter-widgets/base",
          "model_name": "LayoutModel",
          "state": {
            "_view_name": "LayoutView",
            "grid_template_rows": null,
            "right": null,
            "justify_content": null,
            "_view_module": "@jupyter-widgets/base",
            "overflow": null,
            "_model_module_version": "1.2.0",
            "_view_count": null,
            "flex_flow": null,
            "width": null,
            "min_width": null,
            "border": null,
            "align_items": null,
            "bottom": null,
            "_model_module": "@jupyter-widgets/base",
            "top": null,
            "grid_column": null,
            "overflow_y": null,
            "overflow_x": null,
            "grid_auto_flow": null,
            "grid_area": null,
            "grid_template_columns": null,
            "flex": null,
            "_model_name": "LayoutModel",
            "justify_items": null,
            "grid_row": null,
            "max_height": null,
            "align_content": null,
            "visibility": null,
            "align_self": null,
            "height": null,
            "min_height": null,
            "padding": null,
            "grid_auto_rows": null,
            "grid_gap": null,
            "max_width": null,
            "order": null,
            "_view_module_version": "1.2.0",
            "grid_template_areas": null,
            "object_position": null,
            "object_fit": null,
            "grid_auto_columns": null,
            "margin": null,
            "display": null,
            "left": null
          }
        },
        "8e66be2e88584dbbb0ffde2a020950c9": {
          "model_module": "@jupyter-widgets/controls",
          "model_name": "IntProgressModel",
          "state": {
            "_view_name": "ProgressView",
            "style": "IPY_MODEL_78e8e7e1999541c9abefe427725a7f46",
            "_dom_classes": [],
            "description": "100%",
            "_model_name": "IntProgressModel",
            "bar_style": "success",
            "max": 50526848,
            "_view_module": "@jupyter-widgets/controls",
            "_model_module_version": "1.5.0",
            "value": 50526848,
            "_view_count": null,
            "_view_module_version": "1.5.0",
            "orientation": "horizontal",
            "min": 0,
            "description_tooltip": null,
            "_model_module": "@jupyter-widgets/controls",
            "layout": "IPY_MODEL_65c34d4a8fb8499380e623201729f962"
          }
        },
        "ec320a33b390494c97e397654bc4c6f9": {
          "model_module": "@jupyter-widgets/controls",
          "model_name": "HTMLModel",
          "state": {
            "_view_name": "HTMLView",
            "style": "IPY_MODEL_0996f91535f94916829b7c871dda78c2",
            "_dom_classes": [],
            "description": "",
            "_model_name": "HTMLModel",
            "placeholder": "​",
            "_view_module": "@jupyter-widgets/controls",
            "_model_module_version": "1.5.0",
            "value": " Downloading : 48.2M/48.2M [00:03&lt;00:00,    15.6MB/s]",
            "_view_count": null,
            "_view_module_version": "1.5.0",
            "description_tooltip": null,
            "_model_module": "@jupyter-widgets/controls",
            "layout": "IPY_MODEL_2ab13469ba8f43a5aafd94a76fff80f0"
          }
        },
        "78e8e7e1999541c9abefe427725a7f46": {
          "model_module": "@jupyter-widgets/controls",
          "model_name": "ProgressStyleModel",
          "state": {
            "_view_name": "StyleView",
            "_model_name": "ProgressStyleModel",
            "description_width": "initial",
            "_view_module": "@jupyter-widgets/base",
            "_model_module_version": "1.5.0",
            "_view_count": null,
            "_view_module_version": "1.2.0",
            "bar_color": null,
            "_model_module": "@jupyter-widgets/controls"
          }
        },
        "65c34d4a8fb8499380e623201729f962": {
          "model_module": "@jupyter-widgets/base",
          "model_name": "LayoutModel",
          "state": {
            "_view_name": "LayoutView",
            "grid_template_rows": null,
            "right": null,
            "justify_content": null,
            "_view_module": "@jupyter-widgets/base",
            "overflow": null,
            "_model_module_version": "1.2.0",
            "_view_count": null,
            "flex_flow": null,
            "width": null,
            "min_width": null,
            "border": null,
            "align_items": null,
            "bottom": null,
            "_model_module": "@jupyter-widgets/base",
            "top": null,
            "grid_column": null,
            "overflow_y": null,
            "overflow_x": null,
            "grid_auto_flow": null,
            "grid_area": null,
            "grid_template_columns": null,
            "flex": null,
            "_model_name": "LayoutModel",
            "justify_items": null,
            "grid_row": null,
            "max_height": null,
            "align_content": null,
            "visibility": null,
            "align_self": null,
            "height": null,
            "min_height": null,
            "padding": null,
            "grid_auto_rows": null,
            "grid_gap": null,
            "max_width": null,
            "order": null,
            "_view_module_version": "1.2.0",
            "grid_template_areas": null,
            "object_position": null,
            "object_fit": null,
            "grid_auto_columns": null,
            "margin": null,
            "display": null,
            "left": null
          }
        },
        "0996f91535f94916829b7c871dda78c2": {
          "model_module": "@jupyter-widgets/controls",
          "model_name": "DescriptionStyleModel",
          "state": {
            "_view_name": "StyleView",
            "_model_name": "DescriptionStyleModel",
            "description_width": "",
            "_view_module": "@jupyter-widgets/base",
            "_model_module_version": "1.5.0",
            "_view_count": null,
            "_view_module_version": "1.2.0",
            "_model_module": "@jupyter-widgets/controls"
          }
        },
        "2ab13469ba8f43a5aafd94a76fff80f0": {
          "model_module": "@jupyter-widgets/base",
          "model_name": "LayoutModel",
          "state": {
            "_view_name": "LayoutView",
            "grid_template_rows": null,
            "right": null,
            "justify_content": null,
            "_view_module": "@jupyter-widgets/base",
            "overflow": null,
            "_model_module_version": "1.2.0",
            "_view_count": null,
            "flex_flow": null,
            "width": null,
            "min_width": null,
            "border": null,
            "align_items": null,
            "bottom": null,
            "_model_module": "@jupyter-widgets/base",
            "top": null,
            "grid_column": null,
            "overflow_y": null,
            "overflow_x": null,
            "grid_auto_flow": null,
            "grid_area": null,
            "grid_template_columns": null,
            "flex": null,
            "_model_name": "LayoutModel",
            "justify_items": null,
            "grid_row": null,
            "max_height": null,
            "align_content": null,
            "visibility": null,
            "align_self": null,
            "height": null,
            "min_height": null,
            "padding": null,
            "grid_auto_rows": null,
            "grid_gap": null,
            "max_width": null,
            "order": null,
            "_view_module_version": "1.2.0",
            "grid_template_areas": null,
            "object_position": null,
            "object_fit": null,
            "grid_auto_columns": null,
            "margin": null,
            "display": null,
            "left": null
          }
        },
        "7dedf6f17d864b05a2111df079c8f5f9": {
          "model_module": "@jupyter-widgets/controls",
          "model_name": "HBoxModel",
          "state": {
            "_view_name": "HBoxView",
            "_dom_classes": [],
            "_model_name": "HBoxModel",
            "_view_module": "@jupyter-widgets/controls",
            "_model_module_version": "1.5.0",
            "_view_count": null,
            "_view_module_version": "1.5.0",
            "box_style": "",
            "layout": "IPY_MODEL_0b23793914e94ec2b801c6c2f0b7091b",
            "_model_module": "@jupyter-widgets/controls",
            "children": [
              "IPY_MODEL_bef643a29e554ba0ad075b02a2c1e54c",
              "IPY_MODEL_25f0453e80cd4a2fac1b9001b97b9da1"
            ]
          }
        },
        "0b23793914e94ec2b801c6c2f0b7091b": {
          "model_module": "@jupyter-widgets/base",
          "model_name": "LayoutModel",
          "state": {
            "_view_name": "LayoutView",
            "grid_template_rows": null,
            "right": null,
            "justify_content": null,
            "_view_module": "@jupyter-widgets/base",
            "overflow": null,
            "_model_module_version": "1.2.0",
            "_view_count": null,
            "flex_flow": null,
            "width": null,
            "min_width": null,
            "border": null,
            "align_items": null,
            "bottom": null,
            "_model_module": "@jupyter-widgets/base",
            "top": null,
            "grid_column": null,
            "overflow_y": null,
            "overflow_x": null,
            "grid_auto_flow": null,
            "grid_area": null,
            "grid_template_columns": null,
            "flex": null,
            "_model_name": "LayoutModel",
            "justify_items": null,
            "grid_row": null,
            "max_height": null,
            "align_content": null,
            "visibility": null,
            "align_self": null,
            "height": null,
            "min_height": null,
            "padding": null,
            "grid_auto_rows": null,
            "grid_gap": null,
            "max_width": null,
            "order": null,
            "_view_module_version": "1.2.0",
            "grid_template_areas": null,
            "object_position": null,
            "object_fit": null,
            "grid_auto_columns": null,
            "margin": null,
            "display": null,
            "left": null
          }
        },
        "bef643a29e554ba0ad075b02a2c1e54c": {
          "model_module": "@jupyter-widgets/controls",
          "model_name": "IntProgressModel",
          "state": {
            "_view_name": "ProgressView",
            "style": "IPY_MODEL_a5be897b36644b05bcdfc0e8bb684516",
            "_dom_classes": [],
            "description": "100%",
            "_model_name": "IntProgressModel",
            "bar_style": "success",
            "max": 2620,
            "_view_module": "@jupyter-widgets/controls",
            "_model_module_version": "1.5.0",
            "value": 2620,
            "_view_count": null,
            "_view_module_version": "1.5.0",
            "orientation": "horizontal",
            "min": 0,
            "description_tooltip": null,
            "_model_module": "@jupyter-widgets/controls",
            "layout": "IPY_MODEL_b3fe5d463d9c4e1d9c6546c3f11d31df"
          }
        },
        "25f0453e80cd4a2fac1b9001b97b9da1": {
          "model_module": "@jupyter-widgets/controls",
          "model_name": "HTMLModel",
          "state": {
            "_view_name": "HTMLView",
            "style": "IPY_MODEL_15200b20359f4ec9b13f04193d900a5e",
            "_dom_classes": [],
            "description": "",
            "_model_name": "HTMLModel",
            "placeholder": "​",
            "_view_module": "@jupyter-widgets/controls",
            "_model_module_version": "1.5.0",
            "value": " Downloading : 2.56k/2.56k [00:00&lt;00:00,    66.3kB/s]",
            "_view_count": null,
            "_view_module_version": "1.5.0",
            "description_tooltip": null,
            "_model_module": "@jupyter-widgets/controls",
            "layout": "IPY_MODEL_eff1a04d8dd44e969a860bc164770aa6"
          }
        },
        "a5be897b36644b05bcdfc0e8bb684516": {
          "model_module": "@jupyter-widgets/controls",
          "model_name": "ProgressStyleModel",
          "state": {
            "_view_name": "StyleView",
            "_model_name": "ProgressStyleModel",
            "description_width": "initial",
            "_view_module": "@jupyter-widgets/base",
            "_model_module_version": "1.5.0",
            "_view_count": null,
            "_view_module_version": "1.2.0",
            "bar_color": null,
            "_model_module": "@jupyter-widgets/controls"
          }
        },
        "b3fe5d463d9c4e1d9c6546c3f11d31df": {
          "model_module": "@jupyter-widgets/base",
          "model_name": "LayoutModel",
          "state": {
            "_view_name": "LayoutView",
            "grid_template_rows": null,
            "right": null,
            "justify_content": null,
            "_view_module": "@jupyter-widgets/base",
            "overflow": null,
            "_model_module_version": "1.2.0",
            "_view_count": null,
            "flex_flow": null,
            "width": null,
            "min_width": null,
            "border": null,
            "align_items": null,
            "bottom": null,
            "_model_module": "@jupyter-widgets/base",
            "top": null,
            "grid_column": null,
            "overflow_y": null,
            "overflow_x": null,
            "grid_auto_flow": null,
            "grid_area": null,
            "grid_template_columns": null,
            "flex": null,
            "_model_name": "LayoutModel",
            "justify_items": null,
            "grid_row": null,
            "max_height": null,
            "align_content": null,
            "visibility": null,
            "align_self": null,
            "height": null,
            "min_height": null,
            "padding": null,
            "grid_auto_rows": null,
            "grid_gap": null,
            "max_width": null,
            "order": null,
            "_view_module_version": "1.2.0",
            "grid_template_areas": null,
            "object_position": null,
            "object_fit": null,
            "grid_auto_columns": null,
            "margin": null,
            "display": null,
            "left": null
          }
        },
        "15200b20359f4ec9b13f04193d900a5e": {
          "model_module": "@jupyter-widgets/controls",
          "model_name": "DescriptionStyleModel",
          "state": {
            "_view_name": "StyleView",
            "_model_name": "DescriptionStyleModel",
            "description_width": "",
            "_view_module": "@jupyter-widgets/base",
            "_model_module_version": "1.5.0",
            "_view_count": null,
            "_view_module_version": "1.2.0",
            "_model_module": "@jupyter-widgets/controls"
          }
        },
        "eff1a04d8dd44e969a860bc164770aa6": {
          "model_module": "@jupyter-widgets/base",
          "model_name": "LayoutModel",
          "state": {
            "_view_name": "LayoutView",
            "grid_template_rows": null,
            "right": null,
            "justify_content": null,
            "_view_module": "@jupyter-widgets/base",
            "overflow": null,
            "_model_module_version": "1.2.0",
            "_view_count": null,
            "flex_flow": null,
            "width": null,
            "min_width": null,
            "border": null,
            "align_items": null,
            "bottom": null,
            "_model_module": "@jupyter-widgets/base",
            "top": null,
            "grid_column": null,
            "overflow_y": null,
            "overflow_x": null,
            "grid_auto_flow": null,
            "grid_area": null,
            "grid_template_columns": null,
            "flex": null,
            "_model_name": "LayoutModel",
            "justify_items": null,
            "grid_row": null,
            "max_height": null,
            "align_content": null,
            "visibility": null,
            "align_self": null,
            "height": null,
            "min_height": null,
            "padding": null,
            "grid_auto_rows": null,
            "grid_gap": null,
            "max_width": null,
            "order": null,
            "_view_module_version": "1.2.0",
            "grid_template_areas": null,
            "object_position": null,
            "object_fit": null,
            "grid_auto_columns": null,
            "margin": null,
            "display": null,
            "left": null
          }
        }
      }
    }
  },
  "cells": [
    {
      "cell_type": "markdown",
      "metadata": {
        "id": "4vb_LHsAHx34",
        "colab_type": "text"
      },
      "source": [
        "## IMPORTS"
      ]
    },
    {
      "cell_type": "code",
      "metadata": {
        "id": "MHAi-0TWDVXw",
        "colab_type": "code",
        "outputId": "a0492e7a-e4e0-4061-d941-7312dfc2c764",
        "colab": {
          "base_uri": "https://localhost:8080/",
          "height": 68
        }
      },
      "source": [
        "!pip install mne"
      ],
      "execution_count": 0,
      "outputs": [
        {
          "output_type": "stream",
          "text": [
            "Requirement already satisfied: mne in /usr/local/lib/python3.6/dist-packages (0.20.3)\n",
            "Requirement already satisfied: scipy>=0.17.1 in /usr/local/lib/python3.6/dist-packages (from mne) (1.4.1)\n",
            "Requirement already satisfied: numpy>=1.11.3 in /usr/local/lib/python3.6/dist-packages (from mne) (1.18.3)\n"
          ],
          "name": "stdout"
        }
      ]
    },
    {
      "cell_type": "code",
      "metadata": {
        "id": "ZGVikMW8Dc-U",
        "colab_type": "code",
        "outputId": "f360abcc-3ccb-4efa-a0dc-050ed4380da1",
        "colab": {
          "base_uri": "https://localhost:8080/",
          "height": 34
        }
      },
      "source": [
        "import matplotlib.pyplot as plt\n",
        "import numpy as np\n",
        "\n",
        "import mne\n",
        "from mne.datasets.sleep_physionet.age import fetch_data\n",
        "\n",
        "import keras\n",
        "from keras.models import Sequential\n",
        "from keras.layers import Dense, Conv2D, Dropout, Flatten, MaxPooling2D\n",
        "from keras.callbacks import ModelCheckpoint\n",
        "from sklearn.model_selection import train_test_split"
      ],
      "execution_count": 0,
      "outputs": [
        {
          "output_type": "stream",
          "text": [
            "Using TensorFlow backend.\n"
          ],
          "name": "stderr"
        }
      ]
    },
    {
      "cell_type": "markdown",
      "metadata": {
        "id": "nMmH1bGzH3RX",
        "colab_type": "text"
      },
      "source": [
        "## DATASET PREPROCESSING"
      ]
    },
    {
      "cell_type": "code",
      "metadata": {
        "id": "Obqc-MwaDeuI",
        "colab_type": "code",
        "colab": {}
      },
      "source": [
        "def build_dataset(start, end):\n",
        "  dataset = {'x': [], 'y':[]}\n",
        "  people = [i for i in range(start, end)]\n",
        "  sf = 100\n",
        "  annotation_desc_2_event_id = {'Sleep stage W': 1,\n",
        "                                'Sleep stage 1': 2,\n",
        "                                'Sleep stage 2': 3,\n",
        "                                'Sleep stage 3': 4,\n",
        "                                'Sleep stage 4': 4,\n",
        "                                'Sleep stage R': 5}\n",
        "  event_id = {'Sleep stage W': 1,\n",
        "              'Sleep stage 1': 2,\n",
        "              'Sleep stage 2': 3,\n",
        "              'Sleep stage 3/4': 4,\n",
        "              'Sleep stage R': 5}\n",
        "  \n",
        "  tmax = 30. - 1. / sf\n",
        "  \n",
        "  files = fetch_data(subjects=people, recording=[1])\n",
        "  \n",
        "  count = 0\n",
        "  for file in files:\n",
        "      raw = mne.io.read_raw_edf(file[0])\n",
        "      annot = mne.read_annotations(file[1])\n",
        "      raw.set_annotations(annot, emit_warning=False)\n",
        "      events, _ = mne.events_from_annotations(\n",
        "          raw, event_id=annotation_desc_2_event_id, chunk_duration=30.)\n",
        "      epochs = mne.Epochs(raw=raw, events=events,\n",
        "                                event_id=event_id, tmin=0., tmax=tmax, baseline=None)\n",
        "      \n",
        "      if count == 0:\n",
        "          X = (epochs.get_data(picks=\"eeg\"))[:,0,:]\n",
        "          Y = epochs.events[:, 2]\n",
        "          count += 1\n",
        "      else:\n",
        "          x = (epochs.get_data(picks=\"eeg\"))[:,0,:]\n",
        "          y = epochs.events[:, 2]\n",
        "          X = np.concatenate((X, x), axis=0)\n",
        "          Y = np.concatenate((Y, y), axis=0)\n",
        "      \n",
        "  #X = (epochs_test.get_data(picks=\"eeg\"))[:,0,:]\n",
        "  #Y = epochs_test.events[:, 2]\n",
        "  dataset['x'] = X\n",
        "  dataset['y'] = Y\n",
        "  return dataset"
      ],
      "execution_count": 0,
      "outputs": []
    },
    {
      "cell_type": "code",
      "metadata": {
        "id": "c8whZG-FDpaX",
        "colab_type": "code",
        "colab": {}
      },
      "source": [
        "def get_spectrogram(data, sf):\n",
        "    rate = sf\n",
        "    nfft= sf\n",
        "    noverlap= sf-1\n",
        "    fig,ax = plt.subplots(1)\n",
        "    fig.subplots_adjust(left=0,right=1,bottom=0,top=1)\n",
        "    ax.axis('off')\n",
        "    pxx, freqs, bins, im = ax.specgram(x=data, Fs=rate, noverlap=noverlap, NFFT=nfft)\n",
        "    ax.axis('off')\n",
        "    plt.rcParams['figure.figsize'] = [0.75,0.5]\n",
        "    fig.canvas.draw()\n",
        "    width, height = fig.get_size_inches() * fig.get_dpi()\n",
        "    \n",
        "    mplimage = np.frombuffer(fig.canvas.tostring_rgb(), dtype=np.uint8)\n",
        "    \n",
        "    imarray = np.reshape(mplimage, (int(height), int(width), 3))\n",
        "    plt.close(fig)\n",
        "    return imarray"
      ],
      "execution_count": 0,
      "outputs": []
    },
    {
      "cell_type": "code",
      "metadata": {
        "id": "7tRVitR0DvsN",
        "colab_type": "code",
        "colab": {}
      },
      "source": [
        "def split_data(X, Y, test_size=0.1, val_size=0.2):\n",
        "  x_train, x_test, y_train, y_test = train_test_split(X, Y, test_size=test_size, random_state=42)\n",
        "  x_train, x_val, y_train, y_val = train_test_split(x_train, y_train, test_size=val_size, random_state=42)\n",
        "  return x_train, x_test, x_val, y_train, y_test, y_val\n"
      ],
      "execution_count": 0,
      "outputs": []
    },
    {
      "cell_type": "code",
      "metadata": {
        "id": "gsNW2kZGD3_T",
        "colab_type": "code",
        "outputId": "3456f38d-7fb1-466e-a7b4-76961e978bc9",
        "colab": {
          "base_uri": "https://localhost:8080/",
          "height": 1000,
          "referenced_widgets": [
            "168015fc7d394be889af17930c77cd32",
            "7350844bce244046955a8c6d830898f4",
            "dbdd0ee351ed4182a12a054d115e61b0",
            "545643f77169499789f2ef4826c12da9",
            "d7848c73a55146909c1fd76fde6104d1",
            "ff08abf88ed44432b8dcefb9febdfc75",
            "b6a4996cef694e9b97535f55b88621d8",
            "c286aa787cbf4e3e9975ed54a0dabb56",
            "c0185c6e54964830845cd1e291133f84",
            "afc6f7ea966042b39db763ea5a2d3887",
            "7af8902f9cb149d1a5750f0f3a335572",
            "6f96f8340ac44864b40d269143a59e15",
            "6b2ce51d424945ddb0821d5f70106fdd",
            "18769ff2255447ebaacf88e688a19a39",
            "fbfed0e04ebc43b8b76ea5a131250823",
            "2f26218e1549488b9a0858997d8bf82e",
            "402bfee48cdd480da1051d97fc65baea",
            "5054e9ebc8fa4ab39c4e2d28ab75ce6d",
            "8e66be2e88584dbbb0ffde2a020950c9",
            "ec320a33b390494c97e397654bc4c6f9",
            "78e8e7e1999541c9abefe427725a7f46",
            "65c34d4a8fb8499380e623201729f962",
            "0996f91535f94916829b7c871dda78c2",
            "2ab13469ba8f43a5aafd94a76fff80f0",
            "7dedf6f17d864b05a2111df079c8f5f9",
            "0b23793914e94ec2b801c6c2f0b7091b",
            "bef643a29e554ba0ad075b02a2c1e54c",
            "25f0453e80cd4a2fac1b9001b97b9da1",
            "a5be897b36644b05bcdfc0e8bb684516",
            "b3fe5d463d9c4e1d9c6546c3f11d31df",
            "15200b20359f4ec9b13f04193d900a5e",
            "eff1a04d8dd44e969a860bc164770aa6"
          ]
        }
      },
      "source": [
        "dataset = build_dataset(0,7)\n",
        "X_raw = dataset['x']\n",
        "Y = dataset['y']"
      ],
      "execution_count": 0,
      "outputs": [
        {
          "output_type": "stream",
          "text": [
            "Using default location ~/mne_data for PHYSIONET_SLEEP...\n",
            "Downloading https://physionet.org/physiobank/database/sleep-edfx/sleep-cassette//SC4051E0-PSG.edf (47.4 MB)\n"
          ],
          "name": "stdout"
        },
        {
          "output_type": "display_data",
          "data": {
            "application/vnd.jupyter.widget-view+json": {
              "model_id": "168015fc7d394be889af17930c77cd32",
              "version_minor": 0,
              "version_major": 2
            },
            "text/plain": [
              "HBox(children=(IntProgress(value=0, description='Downloading', max=49651328, style=ProgressStyle(description_w…"
            ]
          },
          "metadata": {
            "tags": []
          }
        },
        {
          "output_type": "stream",
          "text": [
            "\n",
            "Verifying hash ea073451b65ce8a6f1a02a8cc2b89d1a162ca0ae.\n",
            "Downloading https://physionet.org/physiobank/database/sleep-edfx/sleep-cassette//SC4051EC-Hypnogram.edf (4 kB)\n"
          ],
          "name": "stdout"
        },
        {
          "output_type": "display_data",
          "data": {
            "application/vnd.jupyter.widget-view+json": {
              "model_id": "c0185c6e54964830845cd1e291133f84",
              "version_minor": 0,
              "version_major": 2
            },
            "text/plain": [
              "HBox(children=(IntProgress(value=0, description='Downloading', max=3976, style=ProgressStyle(description_width…"
            ]
          },
          "metadata": {
            "tags": []
          }
        },
        {
          "output_type": "stream",
          "text": [
            "\n",
            "Verifying hash 4159ef8a3e119d6dcc1bede806f6fbc017b27a0f.\n",
            "Downloading https://physionet.org/physiobank/database/sleep-edfx/sleep-cassette//SC4061E0-PSG.edf (48.2 MB)\n"
          ],
          "name": "stdout"
        },
        {
          "output_type": "display_data",
          "data": {
            "application/vnd.jupyter.widget-view+json": {
              "model_id": "402bfee48cdd480da1051d97fc65baea",
              "version_minor": 0,
              "version_major": 2
            },
            "text/plain": [
              "HBox(children=(IntProgress(value=0, description='Downloading', max=50526848, style=ProgressStyle(description_w…"
            ]
          },
          "metadata": {
            "tags": []
          }
        },
        {
          "output_type": "stream",
          "text": [
            "\n",
            "Verifying hash 1736736e585807c14f1ae8bc87a94cae222c5170.\n",
            "Downloading https://physionet.org/physiobank/database/sleep-edfx/sleep-cassette//SC4061EC-Hypnogram.edf (3 kB)\n"
          ],
          "name": "stdout"
        },
        {
          "output_type": "display_data",
          "data": {
            "application/vnd.jupyter.widget-view+json": {
              "model_id": "7dedf6f17d864b05a2111df079c8f5f9",
              "version_minor": 0,
              "version_major": 2
            },
            "text/plain": [
              "HBox(children=(IntProgress(value=0, description='Downloading', max=2620, style=ProgressStyle(description_width…"
            ]
          },
          "metadata": {
            "tags": []
          }
        },
        {
          "output_type": "stream",
          "text": [
            "\n",
            "Verifying hash 4bf99622c67c281b25ceccd35e7050328a2946e8.\n",
            "Extracting EDF parameters from /root/mne_data/physionet-sleep-data/SC4001E0-PSG.edf...\n",
            "EDF file detected\n",
            "Setting channel info structure...\n",
            "Creating raw.info structure...\n",
            "Used Annotations descriptions: ['Sleep stage 1', 'Sleep stage 2', 'Sleep stage 3', 'Sleep stage 4', 'Sleep stage R', 'Sleep stage W']\n",
            "2650 matching events found\n",
            "No baseline correction applied\n",
            "Not setting metadata\n",
            "0 projection items activated\n",
            "Loading data for 2650 events and 3000 original time points ...\n",
            "0 bad epochs dropped\n",
            "Extracting EDF parameters from /root/mne_data/physionet-sleep-data/SC4011E0-PSG.edf...\n",
            "EDF file detected\n",
            "Setting channel info structure...\n",
            "Creating raw.info structure...\n",
            "Used Annotations descriptions: ['Sleep stage 1', 'Sleep stage 2', 'Sleep stage 3', 'Sleep stage 4', 'Sleep stage R', 'Sleep stage W']\n",
            "2802 matching events found\n",
            "No baseline correction applied\n",
            "Not setting metadata\n",
            "0 projection items activated\n",
            "Loading data for 2802 events and 3000 original time points ...\n",
            "0 bad epochs dropped\n",
            "Extracting EDF parameters from /root/mne_data/physionet-sleep-data/SC4021E0-PSG.edf...\n",
            "EDF file detected\n",
            "Setting channel info structure...\n",
            "Creating raw.info structure...\n",
            "Used Annotations descriptions: ['Sleep stage 1', 'Sleep stage 2', 'Sleep stage 3', 'Sleep stage 4', 'Sleep stage R', 'Sleep stage W']\n",
            "2804 matching events found\n",
            "No baseline correction applied\n",
            "Not setting metadata\n",
            "0 projection items activated\n",
            "Loading data for 2804 events and 3000 original time points ...\n",
            "0 bad epochs dropped\n",
            "Extracting EDF parameters from /root/mne_data/physionet-sleep-data/SC4031E0-PSG.edf...\n",
            "EDF file detected\n",
            "Setting channel info structure...\n",
            "Creating raw.info structure...\n",
            "Used Annotations descriptions: ['Sleep stage 1', 'Sleep stage 2', 'Sleep stage 3', 'Sleep stage 4', 'Sleep stage R', 'Sleep stage W']\n",
            "2820 matching events found\n",
            "No baseline correction applied\n",
            "Not setting metadata\n",
            "0 projection items activated\n",
            "Loading data for 2820 events and 3000 original time points ...\n",
            "0 bad epochs dropped\n",
            "Extracting EDF parameters from /root/mne_data/physionet-sleep-data/SC4041E0-PSG.edf...\n",
            "EDF file detected\n",
            "Setting channel info structure...\n",
            "Creating raw.info structure...\n",
            "Used Annotations descriptions: ['Sleep stage 1', 'Sleep stage 2', 'Sleep stage 3', 'Sleep stage R', 'Sleep stage W']\n",
            "2569 matching events found\n",
            "No baseline correction applied\n",
            "Not setting metadata\n",
            "0 projection items activated\n",
            "Loading data for 2569 events and 3000 original time points ...\n",
            "0 bad epochs dropped\n",
            "Extracting EDF parameters from /root/mne_data/physionet-sleep-data/SC4051E0-PSG.edf...\n",
            "EDF file detected\n",
            "Setting channel info structure...\n",
            "Creating raw.info structure...\n",
            "Used Annotations descriptions: ['Sleep stage 1', 'Sleep stage 2', 'Sleep stage 3', 'Sleep stage 4', 'Sleep stage R', 'Sleep stage W']\n",
            "2722 matching events found\n",
            "No baseline correction applied\n",
            "Not setting metadata\n",
            "0 projection items activated\n",
            "Loading data for 2722 events and 3000 original time points ...\n",
            "0 bad epochs dropped\n",
            "Extracting EDF parameters from /root/mne_data/physionet-sleep-data/SC4061E0-PSG.edf...\n",
            "EDF file detected\n",
            "Setting channel info structure...\n",
            "Creating raw.info structure...\n",
            "Used Annotations descriptions: ['Sleep stage 1', 'Sleep stage 2', 'Sleep stage 3', 'Sleep stage 4', 'Sleep stage R', 'Sleep stage W']\n",
            "2770 matching events found\n",
            "No baseline correction applied\n",
            "Not setting metadata\n",
            "0 projection items activated\n",
            "Loading data for 2770 events and 3000 original time points ...\n",
            "0 bad epochs dropped\n"
          ],
          "name": "stdout"
        }
      ]
    },
    {
      "cell_type": "code",
      "metadata": {
        "id": "nCH0R-wAECCp",
        "colab_type": "code",
        "colab": {}
      },
      "source": [
        "X = []\n",
        "for x in X_raw:\n",
        "    spectrogram = get_spectrogram(x, sf=100)\n",
        "    X.append(spectrogram)"
      ],
      "execution_count": 0,
      "outputs": []
    },
    {
      "cell_type": "code",
      "metadata": {
        "id": "_VYoDRdbEEzj",
        "colab_type": "code",
        "colab": {}
      },
      "source": [
        "X = np.array(X, dtype=\"float32\")\n",
        "X.shape"
      ],
      "execution_count": 0,
      "outputs": []
    },
    {
      "cell_type": "code",
      "metadata": {
        "id": "t14z_2bREHH_",
        "colab_type": "code",
        "colab": {}
      },
      "source": [
        "Y = np.array(dataset['y'], dtype=np.uint8)\n",
        "\n",
        "Y -= 1\n",
        "Y = keras.utils.to_categorical(Y, 5)\n",
        "x_train, x_test, x_val, y_train, y_test, y_val = split_data(X, Y)\n",
        "\n"
      ],
      "execution_count": 0,
      "outputs": []
    },
    {
      "cell_type": "markdown",
      "metadata": {
        "id": "aWbY9KVEIXHc",
        "colab_type": "text"
      },
      "source": [
        "## MODELLING"
      ]
    },
    {
      "cell_type": "code",
      "metadata": {
        "id": "jr7PahxJDz0S",
        "colab_type": "code",
        "colab": {}
      },
      "source": [
        "def build_model():\n",
        "  imheight, imwidth = (36, 54)\n",
        "  input_shape = (imheight, imwidth, 3)\n",
        "  \n",
        "  model = Sequential()\n",
        "\n",
        "  model.add(Conv2D(32, kernel_size=(3, 3), activation='relu', input_shape=input_shape))\n",
        "  \n",
        "  model.add(Conv2D(64, kernel_size=(3, 3), activation='relu'))\n",
        "  \n",
        "  model.add(MaxPooling2D(pool_size=(2, 2)))\n",
        "  model.add(Dropout(0.25))\n",
        "  \n",
        "  model.add(Flatten())\n",
        "  \n",
        "  model.add(Dense(128, activation='relu'))\n",
        "  model.add(Dropout(0.5))\n",
        "  \n",
        "  model.add(Dense(5, activation='softmax'))\n",
        "  return model\n",
        "  "
      ],
      "execution_count": 0,
      "outputs": []
    },
    {
      "cell_type": "code",
      "metadata": {
        "id": "opY5sYU8tnRn",
        "colab_type": "code",
        "outputId": "212fc9c5-7e35-4f99-8ddd-7bccd55905fc",
        "colab": {
          "base_uri": "https://localhost:8080/",
          "height": 425
        }
      },
      "source": [
        "model = build_model()\n",
        "model.summary()\n",
        "model.compile(loss=\"categorical_crossentropy\", optimizer=\"adam\", metrics=['accuracy'])"
      ],
      "execution_count": 0,
      "outputs": [
        {
          "output_type": "stream",
          "text": [
            "Model: \"sequential_1\"\n",
            "_________________________________________________________________\n",
            "Layer (type)                 Output Shape              Param #   \n",
            "=================================================================\n",
            "conv2d_1 (Conv2D)            (None, 70, 106, 32)       896       \n",
            "_________________________________________________________________\n",
            "conv2d_2 (Conv2D)            (None, 68, 104, 64)       18496     \n",
            "_________________________________________________________________\n",
            "max_pooling2d_1 (MaxPooling2 (None, 34, 52, 64)        0         \n",
            "_________________________________________________________________\n",
            "dropout_1 (Dropout)          (None, 34, 52, 64)        0         \n",
            "_________________________________________________________________\n",
            "flatten_1 (Flatten)          (None, 113152)            0         \n",
            "_________________________________________________________________\n",
            "dense_1 (Dense)              (None, 128)               14483584  \n",
            "_________________________________________________________________\n",
            "dropout_2 (Dropout)          (None, 128)               0         \n",
            "_________________________________________________________________\n",
            "dense_2 (Dense)              (None, 5)                 645       \n",
            "=================================================================\n",
            "Total params: 14,503,621\n",
            "Trainable params: 14,503,621\n",
            "Non-trainable params: 0\n",
            "_________________________________________________________________\n"
          ],
          "name": "stdout"
        }
      ]
    },
    {
      "cell_type": "code",
      "metadata": {
        "id": "6Ef7HXbQwnJV",
        "colab_type": "code",
        "outputId": "d825e738-e81f-4f44-a55f-db0642b09222",
        "colab": {
          "base_uri": "https://localhost:8080/",
          "height": 544
        }
      },
      "source": [
        "\n",
        "EPOCHS = 15\n",
        "BATCH_SIZE = 8\n",
        "# x_train, x_test, y_train, y_test = train_test_split(X, Y, test_size=0.2, random_state=0)\n",
        "classifier = model.fit(x_train, y_train, batch_size=BATCH_SIZE, epochs=EPOCHS, validation_data=(x_val, y_val))"
      ],
      "execution_count": 0,
      "outputs": [
        {
          "output_type": "stream",
          "text": [
            "Train on 9824 samples, validate on 2456 samples\n",
            "Epoch 1/15\n",
            "9824/9824 [==============================] - 266s 27ms/step - loss: 0.9552 - accuracy: 0.6972 - val_loss: 0.5383 - val_accuracy: 0.8184\n",
            "Epoch 2/15\n",
            "9824/9824 [==============================] - 268s 27ms/step - loss: 0.5245 - accuracy: 0.8296 - val_loss: 0.3391 - val_accuracy: 0.8583\n",
            "Epoch 3/15\n",
            "9824/9824 [==============================] - 269s 27ms/step - loss: 0.4219 - accuracy: 0.8483 - val_loss: 0.3390 - val_accuracy: 0.8591\n",
            "Epoch 4/15\n",
            "9824/9824 [==============================] - 272s 28ms/step - loss: 0.3828 - accuracy: 0.8567 - val_loss: 0.2942 - val_accuracy: 0.8872\n",
            "Epoch 5/15\n",
            "9824/9824 [==============================] - 268s 27ms/step - loss: 0.3564 - accuracy: 0.8615 - val_loss: 0.2617 - val_accuracy: 0.8994\n",
            "Epoch 6/15\n",
            "9824/9824 [==============================] - 269s 27ms/step - loss: 0.3349 - accuracy: 0.8663 - val_loss: 0.2489 - val_accuracy: 0.9092\n",
            "Epoch 7/15\n",
            "9824/9824 [==============================] - 269s 27ms/step - loss: 0.3109 - accuracy: 0.8784 - val_loss: 0.2658 - val_accuracy: 0.9100\n",
            "Epoch 8/15\n",
            "9824/9824 [==============================] - 269s 27ms/step - loss: 0.2817 - accuracy: 0.8907 - val_loss: 0.2380 - val_accuracy: 0.9121\n",
            "Epoch 9/15\n",
            "9824/9824 [==============================] - 268s 27ms/step - loss: 0.2616 - accuracy: 0.9009 - val_loss: 0.2477 - val_accuracy: 0.9047\n",
            "Epoch 10/15\n",
            "9824/9824 [==============================] - 269s 27ms/step - loss: 0.2486 - accuracy: 0.9058 - val_loss: 0.2358 - val_accuracy: 0.9112\n",
            "Epoch 11/15\n",
            "9824/9824 [==============================] - 267s 27ms/step - loss: 0.2226 - accuracy: 0.9160 - val_loss: 0.2070 - val_accuracy: 0.9275\n",
            "Epoch 12/15\n",
            "9824/9824 [==============================] - 267s 27ms/step - loss: 0.2009 - accuracy: 0.9212 - val_loss: 0.2180 - val_accuracy: 0.9198\n",
            "Epoch 13/15\n",
            "9824/9824 [==============================] - 268s 27ms/step - loss: 0.1792 - accuracy: 0.9328 - val_loss: 0.2479 - val_accuracy: 0.9178\n",
            "Epoch 14/15\n",
            "9824/9824 [==============================] - 270s 27ms/step - loss: 0.1689 - accuracy: 0.9387 - val_loss: 0.2105 - val_accuracy: 0.9235\n",
            "Epoch 15/15\n",
            "9824/9824 [==============================] - 268s 27ms/step - loss: 0.1546 - accuracy: 0.9426 - val_loss: 0.2481 - val_accuracy: 0.9178\n"
          ],
          "name": "stdout"
        }
      ]
    },
    {
      "cell_type": "markdown",
      "metadata": {
        "id": "ck0OeA5xIahM",
        "colab_type": "text"
      },
      "source": [
        "## RESULT ANALYSIS"
      ]
    },
    {
      "cell_type": "markdown",
      "metadata": {
        "id": "ZvRwkyDaIhqc",
        "colab_type": "text"
      },
      "source": [
        "### EPOCHS vs LOSS"
      ]
    },
    {
      "cell_type": "code",
      "metadata": {
        "id": "3Gd1rin_EJ19",
        "colab_type": "code",
        "outputId": "d19f6d83-07c0-4829-c208-5e1cef37a4ae",
        "colab": {
          "base_uri": "https://localhost:8080/",
          "height": 609
        }
      },
      "source": [
        "plt.figure(figsize=[12,10])\n",
        "plt.style.use('ggplot')\n",
        "\n",
        "plt.plot(classifier.history['loss'], label='loss')\n",
        "plt.plot(classifier.history['val_loss'], label='val_loss')\n",
        "\n",
        "plt.xlabel('Epochs')\n",
        "plt.ylabel('Error')\n",
        "plt.legend(loc='best')\n",
        "plt.savefig('./loss.png')\n",
        "plt.show()"
      ],
      "execution_count": 0,
      "outputs": [
        {
          "output_type": "display_data",
          "data": {
            "image/png": "[encoded data removed]",
            "text/plain": [
              "<Figure size 864x720 with 1 Axes>"
            ]
          },
          "metadata": {
            "tags": [],
            "needs_background": "light"
          }
        }
      ]
    },
    {
      "cell_type": "markdown",
      "metadata": {
        "id": "qIdUudscIm6U",
        "colab_type": "text"
      },
      "source": [
        "### EPOCHS vs ACCURACY"
      ]
    },
    {
      "cell_type": "code",
      "metadata": {
        "id": "bAoy8CiEEMMm",
        "colab_type": "code",
        "outputId": "8b082e05-8ee0-4f29-89ee-bedac82984cc",
        "colab": {
          "base_uri": "https://localhost:8080/",
          "height": 609
        }
      },
      "source": [
        "plt.figure(figsize=[12,10])\n",
        "plt.style.use('ggplot')\n",
        "\n",
        "plt.plot(classifier.history['accuracy'], label='train accuracy')\n",
        "plt.plot(classifier.history['val_accuracy'], label='validation accuracy')\n",
        "plt.xlabel('Epochs')\n",
        "plt.ylabel('Accuracy')\n",
        "plt.legend(loc='best')\n",
        "plt.savefig('./accuracy.png')\n",
        "plt.show()"
      ],
      "execution_count": 0,
      "outputs": [
        {
          "output_type": "display_data",
          "data": {
            "image/png": "[encoded data removed]",
            "text/plain": [
              "<Figure size 864x720 with 1 Axes>"
            ]
          },
          "metadata": {
            "tags": []
          }
        }
      ]
    },
    {
      "cell_type": "markdown",
      "metadata": {
        "id": "PeJXFn4CIqTM",
        "colab_type": "text"
      },
      "source": [
        "### TESTING ACCURACY"
      ]
    },
    {
      "cell_type": "code",
      "metadata": {
        "id": "qsUSAffJENbZ",
        "colab_type": "code",
        "outputId": "66d60a43-50b0-4038-fb21-9de27b75d8de",
        "colab": {
          "base_uri": "https://localhost:8080/",
          "height": 51
        }
      },
      "source": [
        "print(model.evaluate(x_test, y_test, batch_size=BATCH_SIZE))"
      ],
      "execution_count": 0,
      "outputs": [
        {
          "output_type": "stream",
          "text": [
            "1365/1365 [==============================] - 5s 4ms/step\n",
            "[0.2533527545193333, 0.9172161221504211]\n"
          ],
          "name": "stdout"
        }
      ]
    },
    {
      "cell_type": "markdown",
      "metadata": {
        "id": "7o9MftwhIvdr",
        "colab_type": "text"
      },
      "source": [
        "### CLASSIFICATION REPORT"
      ]
    },
    {
      "cell_type": "code",
      "metadata": {
        "id": "whogzOEbtx-g",
        "colab_type": "code",
        "colab": {}
      },
      "source": [
        "preds = model.predict(x_test).argmax(axis=1)\n",
        "from sklearn.preprocessing import OneHotEncoder\n",
        "ohe = OneHotEncoder()\n",
        "preds = ohe.fit_transform(preds.reshape((-1,1))).toarray()"
      ],
      "execution_count": 0,
      "outputs": []
    },
    {
      "cell_type": "code",
      "metadata": {
        "id": "KObkyzAwt5eF",
        "colab_type": "code",
        "outputId": "bb7a8af6-d002-43ee-9736-b6a0954f610a",
        "colab": {
          "base_uri": "https://localhost:8080/",
          "height": 238
        }
      },
      "source": [
        "from sklearn.metrics import classification_report\n",
        "target_names = ['class W', 'class 1', 'class 2', 'class 3/4', 'class R']\n",
        "print(classification_report(y_test, preds, target_names=target_names))"
      ],
      "execution_count": 0,
      "outputs": [
        {
          "output_type": "stream",
          "text": [
            "              precision    recall  f1-score   support\n",
            "\n",
            "     class W       0.98      0.98      0.98       908\n",
            "     class 1       0.50      0.35      0.41        63\n",
            "     class 2       0.89      0.88      0.89       241\n",
            "   class 3/4       0.76      0.85      0.80        60\n",
            "     class R       0.70      0.78      0.74        93\n",
            "\n",
            "   micro avg       0.92      0.92      0.92      1365\n",
            "   macro avg       0.77      0.77      0.76      1365\n",
            "weighted avg       0.91      0.92      0.91      1365\n",
            " samples avg       0.92      0.92      0.92      1365\n",
            "\n"
          ],
          "name": "stdout"
        }
      ]
    },
    {
      "cell_type": "code",
      "metadata": {
        "id": "Bn3bQ-hzToYj",
        "colab_type": "code",
        "colab": {}
      },
      "source": [
        "def plot_confusion_matrix_custom(cm, classes, normalize=False, title='Confusion matrix', cmap='Reds'):\n",
        "  import itertools\n",
        "  plt.figure(figsize=[10,8])\n",
        "  plt.axis('off')\n",
        "  # plt.grid(b=None)\n",
        "  if normalize:\n",
        "      cm = cm.astype('float') / cm.sum(axis=1)[:, np.newaxis]\n",
        "      print(\"Normalized confusion matrix\")\n",
        "  else:\n",
        "      print('Confusion matrix, without normalization')\n",
        "\n",
        "  print(cm)\n",
        "\n",
        "  plt.imshow(cm, interpolation='nearest', cmap=cmap)\n",
        "  plt.title(title)\n",
        "  plt.colorbar()\n",
        "  tick_marks = np.arange(len(classes))\n",
        "  plt.xticks(tick_marks, classes, rotation=45)\n",
        "  plt.yticks(tick_marks, classes)\n",
        "\n",
        "  fmt = '.2f' if normalize else 'd'\n",
        "  thresh = cm.max() / 2.\n",
        "  for i, j in itertools.product(range(cm.shape[0]), range(cm.shape[1])):\n",
        "      plt.text(j, i, format(cm[i, j], fmt),\n",
        "                horizontalalignment=\"center\",\n",
        "                color=\"white\" if cm[i, j] > thresh else \"black\")\n",
        "\n",
        "  plt.ylabel('True label')\n",
        "  plt.xlabel('Predicted label')\n",
        "  plt.tight_layout()\n",
        "  plt.show()"
      ],
      "execution_count": 0,
      "outputs": []
    },
    {
      "cell_type": "markdown",
      "metadata": {
        "id": "bqwqThf0I6yv",
        "colab_type": "text"
      },
      "source": [
        "### CONFUSION MATRIX"
      ]
    },
    {
      "cell_type": "code",
      "metadata": {
        "id": "B0XtzJzdTri-",
        "colab_type": "code",
        "outputId": "2f6d4e38-b852-4652-c130-6614e17ae945",
        "colab": {
          "base_uri": "https://localhost:8080/",
          "height": 704
        }
      },
      "source": [
        "from sklearn.metrics import confusion_matrix\n",
        "from mlxtend.plotting import plot_confusion_matrix\n",
        "confusion_matrix_output =confusion_matrix(y_test.argmax(axis=1), preds.argmax(axis=1))\n",
        "\n",
        "plt.figure(figsize=[8,7])\n",
        "plot_confusion_matrix_custom(confusion_matrix_output, classes=['class W', 'class 1', 'class 2', 'class 3/4', 'class R'],\n",
        "                      title='Confusion matrix')"
      ],
      "execution_count": 0,
      "outputs": [
        {
          "output_type": "stream",
          "text": [
            "Confusion matrix, without normalization\n",
            "[[893   9   0   0   6]\n",
            " [ 10  22  12   0  19]\n",
            " [  1   5 213  16   6]\n",
            " [  1   0   8  51   0]\n",
            " [  5   8   7   0  73]]\n"
          ],
          "name": "stdout"
        },
        {
          "output_type": "display_data",
          "data": {
            "text/plain": [
              "<Figure size 576x504 with 0 Axes>"
            ]
          },
          "metadata": {
            "tags": []
          }
        },
        {
          "output_type": "display_data",
          "data": {
            "image/png": "[encoded data removed]",
            "text/plain": [
              "<Figure size 720x576 with 2 Axes>"
            ]
          },
          "metadata": {
            "tags": []
          }
        }
      ]
    },
    {
      "cell_type": "markdown",
      "metadata": {
        "id": "e90rQALoJIrs",
        "colab_type": "text"
      },
      "source": [
        "### ROC"
      ]
    },
    {
      "cell_type": "code",
      "metadata": {
        "id": "ZA9A0RMjAhe7",
        "colab_type": "code",
        "colab": {}
      },
      "source": [
        "from sklearn.metrics import roc_curve, auc\n",
        "from numpy import interp\n",
        "from itertools import cycle\n",
        "def plot_custom_roc(y_test, preds):\n",
        "  n_classes = 5\n",
        "  lw = 2\n",
        "  fpr = dict()\n",
        "  tpr = dict()\n",
        "  roc_auc = dict()\n",
        "  for i in range(n_classes):\n",
        "      fpr[i], tpr[i], _ = roc_curve(y_test[:, i], preds[:, i])\n",
        "      roc_auc[i] = auc(fpr[i], tpr[i])\n",
        "\n",
        "  # Compute micro-average ROC curve and ROC area\n",
        "  fpr[\"micro\"], tpr[\"micro\"], _ = roc_curve(y_test.ravel(), preds.ravel())\n",
        "  roc_auc[\"micro\"] = auc(fpr[\"micro\"], tpr[\"micro\"])\n",
        "\n",
        "  all_fpr = np.unique(np.concatenate([fpr[i] for i in range(n_classes)]))\n",
        "\n",
        "  # Then interpolate all ROC curves at this points\n",
        "  mean_tpr = np.zeros_like(all_fpr)\n",
        "  for i in range(n_classes):\n",
        "      mean_tpr += interp(all_fpr, fpr[i], tpr[i])\n",
        "\n",
        "  # Finally average it and compute AUC\n",
        "  mean_tpr /= n_classes\n",
        "\n",
        "  fpr[\"macro\"] = all_fpr\n",
        "  tpr[\"macro\"] = mean_tpr\n",
        "  roc_auc[\"macro\"] = auc(fpr[\"macro\"], tpr[\"macro\"])\n",
        "\n",
        "  # Plot all ROC curves\n",
        "  plt.figure(figsize=[10,10])\n",
        "  classes=['class W', 'class 1', 'class 2', 'class 3/4', 'class R']\n",
        "  colors = cycle(['aqua', 'darkorange', 'cornflowerblue', 'red', 'green'])\n",
        "  for i, color in zip(range(n_classes), colors):\n",
        "      class_name = classes[i]\n",
        "      plt.plot(fpr[i], tpr[i], color=color, lw=lw,\n",
        "              label='ROC curve of class {0} (area = {1:0.2f})'\n",
        "              ''.format(class_name, roc_auc[i]))\n",
        "\n",
        "  plt.plot([0, 1], [0, 1], 'k--', lw=lw)\n",
        "  plt.xlim([0.0, 1.0])\n",
        "  plt.ylim([0.0, 1.05])\n",
        "  plt.xlabel('False Positive Rate')\n",
        "  plt.ylabel('True Positive Rate')\n",
        "  plt.title('Receiver operating characteristic')\n",
        "  plt.legend(loc=\"lower right\")\n",
        "  plt.show()"
      ],
      "execution_count": 0,
      "outputs": []
    },
    {
      "cell_type": "code",
      "metadata": {
        "id": "V7j6eHviRqkb",
        "colab_type": "code",
        "outputId": "d15ed48e-7627-4a66-e7c5-1d693b51703e",
        "colab": {
          "base_uri": "https://localhost:8080/",
          "height": 626
        }
      },
      "source": [
        "plot_custom_roc(y_test, preds)"
      ],
      "execution_count": 0,
      "outputs": [
        {
          "output_type": "display_data",
          "data": {
            "image/png": "[encoded data removed]",
            "text/plain": [
              "<Figure size 720x720 with 1 Axes>"
            ]
          },
          "metadata": {
            "tags": []
          }
        }
      ]
    }
  ]
}